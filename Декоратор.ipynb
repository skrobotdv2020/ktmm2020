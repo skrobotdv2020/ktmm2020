{
 "cells": [
  {
   "cell_type": "code",
   "execution_count": 1,
   "metadata": {},
   "outputs": [
    {
     "name": "stdout",
     "output_type": "stream",
     "text": [
      "5.0\n",
      "0.15704584121704102\n",
      "5.0\n",
      "1.9805150032043457\n",
      "5.0\n",
      "0.13701844215393066\n"
     ]
    }
   ],
   "source": [
    "#Декоратор\n",
    "import time as tm\n",
    "from numpy.linalg import norm \n",
    "j=complex(0,1)\n",
    "def timer_sec(rast):\n",
    "    def peresilka(*arguments):\n",
    "        start=tm.time()\n",
    "        for i in range(10**5):\n",
    "            result=rast(*arguments)\n",
    "        print(tm.time()-start)\n",
    "    return(peresilka)\n",
    "def rast1(a,b,c,d):\n",
    "    return(((c-a)**2+(d-b)**2)**(0.5))\n",
    "def rast2(a,b,c,d):\n",
    "    return(norm([c-a,d-b]))\n",
    "def rast3(a,b,c,d):\n",
    "    return(abs(((c-a+(d-b)*j)*(c-a-(d-b)*j))**0.5))\n",
    "\n",
    "print(rast1(0,0,3,4))\n",
    "timer_sec(rast1)(0,0,3,4)\n",
    "\n",
    "print(rast2(0,0,3,4))\n",
    "timer_sec(rast2)(0,0,3,4)\n",
    "\n",
    "print(rast3(0,0,3,4))\n",
    "timer_sec(rast3)(0,0,3,4)"
   ]
  },
  {
   "cell_type": "code",
   "execution_count": null,
   "metadata": {},
   "outputs": [],
   "source": []
  }
 ],
 "metadata": {
  "kernelspec": {
   "display_name": "Python 3",
   "language": "python",
   "name": "python3"
  },
  "language_info": {
   "codemirror_mode": {
    "name": "ipython",
    "version": 3
   },
   "file_extension": ".py",
   "mimetype": "text/x-python",
   "name": "python",
   "nbconvert_exporter": "python",
   "pygments_lexer": "ipython3",
   "version": "3.6.5"
  }
 },
 "nbformat": 4,
 "nbformat_minor": 2
}
