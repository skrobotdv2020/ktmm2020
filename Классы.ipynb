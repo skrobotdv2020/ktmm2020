{
 "cells": [
  {
   "cell_type": "code",
   "execution_count": 2,
   "metadata": {},
   "outputs": [
    {
     "name": "stdout",
     "output_type": "stream",
     "text": [
      "5.0\n",
      "0.19912409782409668\n",
      "5.0\n",
      "1.9251587390899658\n",
      "5.0\n",
      "0.14802789688110352\n"
     ]
    }
   ],
   "source": [
    "#Класс\n",
    "import time as tm\n",
    "from numpy.linalg import norm \n",
    "j=complex(0,1)\n",
    "class timers:\n",
    "    def __init__(self):\n",
    "        self.time1=0\n",
    "        self.time2=0\n",
    "        self.time3=0\n",
    "    def rast1(self,a,b,c,d):\n",
    "        return(((c-a)**2+(d-b)**2)**(0.5))\n",
    "    def rast2(self,a,b,c,d):\n",
    "        return(norm([c-a,d-b]))\n",
    "    def rast3(self,a,b,c,d):\n",
    "        return(abs(((c-a+(d-b)*j)*(c-a-(d-b)*j))**0.5))\n",
    "    def sec(self,a,b,c,d,n):\n",
    "        if n==1:\n",
    "            start=tm.time()\n",
    "            for i in range(10**5):\n",
    "                result=self.rast1(a,b,c,d)\n",
    "            self.time1=tm.time()-start\n",
    "        if n==2:\n",
    "            start=tm.time()\n",
    "            for i in range(10**5):\n",
    "                result=self.rast2(a,b,c,d)\n",
    "            self.time2=tm.time()-start\n",
    "        if n==3:\n",
    "            start=tm.time()\n",
    "            for i in range(10**5):\n",
    "                result=self.rast3(a,b,c,d)\n",
    "            self.time3=tm.time()-start\n",
    "w=timers()\n",
    "\n",
    "print(w.rast1(0,0,3,4))\n",
    "w.sec(0,0,3,4,1)\n",
    "print(w.time1)\n",
    "\n",
    "print(w.rast2(0,0,3,4))\n",
    "w.sec(0,0,3,4,2)\n",
    "print(w.time2)\n",
    "\n",
    "print(w.rast3(0,0,3,4))\n",
    "w.sec(0,0,3,4,3)\n",
    "print(w.time3)"
   ]
  },
  {
   "cell_type": "code",
   "execution_count": null,
   "metadata": {},
   "outputs": [],
   "source": []
  }
 ],
 "metadata": {
  "kernelspec": {
   "display_name": "Python 3",
   "language": "python",
   "name": "python3"
  },
  "language_info": {
   "codemirror_mode": {
    "name": "ipython",
    "version": 3
   },
   "file_extension": ".py",
   "mimetype": "text/x-python",
   "name": "python",
   "nbconvert_exporter": "python",
   "pygments_lexer": "ipython3",
   "version": "3.6.5"
  }
 },
 "nbformat": 4,
 "nbformat_minor": 2
}
