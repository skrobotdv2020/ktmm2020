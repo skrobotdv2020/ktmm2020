{
 "cells": [
  {
   "cell_type": "code",
   "execution_count": 1,
   "metadata": {},
   "outputs": [
    {
     "name": "stdout",
     "output_type": "stream",
     "text": [
      "Hello world\n"
     ]
    }
   ],
   "source": [
    "print('Hello world')"
   ]
  },
  {
   "cell_type": "code",
   "execution_count": 14,
   "metadata": {},
   "outputs": [
    {
     "name": "stdout",
     "output_type": "stream",
     "text": [
      "1.3456720824868853\n",
      "0.18846527006314773\n"
     ]
    }
   ],
   "source": [
    "import numpy as np\n",
    "import time as tm\n",
    "start1=tm.clock()\n",
    "x1=0\n",
    "y1=0\n",
    "x2=3\n",
    "y2=4\n",
    "def rast1(a,b,c,d):\n",
    "    return(np.linalg.norm([c-a,d-b]))\n",
    "for i in range(100000):\n",
    "    m=rast1(x1,y1,x2,y2)\n",
    "finish1=tm.clock()-start1\n",
    "start2=tm.clock()\n",
    "x1=0\n",
    "y1=0\n",
    "x2=3\n",
    "y2=4\n",
    "def rast2(a,b,c,d):\n",
    "    return(((c-a)**2+(d-b)**2)**(0.5))\n",
    "for i in range(100000):\n",
    "    m=rast2(x1,y1,x2,y2)\n",
    "finish2=tm.clock()-start2\n",
    "print(finish1)\n",
    "print(finish2)"
   ]
  },
  {
   "cell_type": "code",
   "execution_count": null,
   "metadata": {},
   "outputs": [],
   "source": []
  }
 ],
 "metadata": {
  "kernelspec": {
   "display_name": "Python 3",
   "language": "python",
   "name": "python3"
  },
  "language_info": {
   "codemirror_mode": {
    "name": "ipython",
    "version": 3
   },
   "file_extension": ".py",
   "mimetype": "text/x-python",
   "name": "python",
   "nbconvert_exporter": "python",
   "pygments_lexer": "ipython3",
   "version": "3.6.5"
  }
 },
 "nbformat": 4,
 "nbformat_minor": 2
}
