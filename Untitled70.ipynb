{
 "cells": [
  {
   "cell_type": "code",
   "execution_count": 1,
   "metadata": {},
   "outputs": [
    {
     "name": "stdout",
     "output_type": "stream",
     "text": [
      "Hello world\n"
     ]
    }
   ],
   "source": [
    "print('Hello world')"
   ]
  },
  {
   "cell_type": "code",
   "execution_count": 15,
   "metadata": {},
   "outputs": [
    {
     "name": "stdout",
     "output_type": "stream",
     "text": [
      "2.037412443587241\n",
      "0.24502067938597927\n"
     ]
    }
   ],
   "source": [
    "import numpy as np\n",
    "import time as tm\n",
    "start1=tm.clock()\n",
    "x1=0\n",
    "y1=0\n",
    "x2=3\n",
    "y2=4\n",
    "def rast1(a,b,c,d):\n",
    "    return(np.linalg.norm([c-a,d-b]))\n",
    "for i in range(100000):\n",
    "    m=rast1(x1,y1,x2,y2)\n",
    "finish1=tm.clock()-start1\n",
    "start2=tm.clock()\n",
    "x1=0\n",
    "y1=0\n",
    "x2=3\n",
    "y2=4\n",
    "def rast2(a,b,c,d):\n",
    "    return(((c-a)**2+(d-b)**2)**(0.5))\n",
    "for i in range(100000):\n",
    "    m=rast2(x1,y1,x2,y2)\n",
    "finish2=tm.clock()-start2\n",
    "print(finish1)\n",
    "print(finish2)"
   ]
  },
  {
   "cell_type": "code",
   "execution_count": 40,
   "metadata": {},
   "outputs": [
    {
     "name": "stdout",
     "output_type": "stream",
     "text": [
      "5.0\n",
      "0.33200573921203613\n",
      "5.0\n",
      "1.9113874435424805\n",
      "5.0\n",
      "0.18800044059753418\n"
     ]
    }
   ],
   "source": [
    "#Декоратор\n",
    "import time as tm\n",
    "from numpy.linalg import norm \n",
    "j=complex(0,1)\n",
    "def timer_sec(rast):\n",
    "    def peresilka(*arguments):\n",
    "        start=tm.time()\n",
    "        for i in range(10**5):\n",
    "            result=rast(*arguments)\n",
    "        print(tm.time()-start)\n",
    "    return(peresilka)\n",
    "def rast1(a,b,c,d):\n",
    "    return(((c-a)**2+(d-b)**2)**(0.5))\n",
    "def rast2(a,b,c,d):\n",
    "    return(norm([c-a,d-b]))\n",
    "def rast3(a,b,c,d):\n",
    "    return(abs(((c-a+(d-b)*j)*(c-a-(d-b)*j))**0.5))\n",
    "\n",
    "print(rast1(0,0,3,4))\n",
    "timer_sec(rast1)(0,0,3,4)\n",
    "\n",
    "print(rast2(0,0,3,4))\n",
    "timer_sec(rast2)(0,0,3,4)\n",
    "\n",
    "print(rast3(0,0,3,4))\n",
    "timer_sec(rast3)(0,0,3,4)\n",
    "        \n",
    "\n",
    "\n"
   ]
  },
  {
   "cell_type": "code",
   "execution_count": 44,
   "metadata": {},
   "outputs": [
    {
     "name": "stdout",
     "output_type": "stream",
     "text": [
      "5.0\n",
      "0.31217074394226074\n",
      "5.0\n",
      "1.9199953079223633\n",
      "5.0\n",
      "0.2160019874572754\n"
     ]
    }
   ],
   "source": [
    "#Класс\n",
    "import time as tm\n",
    "from numpy.linalg import norm \n",
    "j=complex(0,1)\n",
    "class timers:\n",
    "    def __init__(self):\n",
    "        self.time1=0\n",
    "        self.time2=0\n",
    "        self.time3=0\n",
    "    def rast1(self,a,b,c,d):\n",
    "        return(((c-a)**2+(d-b)**2)**(0.5))\n",
    "    def rast2(self,a,b,c,d):\n",
    "        return(norm([c-a,d-b]))\n",
    "    def rast3(self,a,b,c,d):\n",
    "        return(abs(((c-a+(d-b)*j)*(c-a-(d-b)*j))**0.5))\n",
    "    def sec(self,a,b,c,d,n):\n",
    "        if n==1:\n",
    "            start=tm.time()\n",
    "            for i in range(10**5):\n",
    "                result=self.rast1(a,b,c,d)\n",
    "            self.time1=tm.time()-start\n",
    "            return(self.time1)\n",
    "        if n==2:\n",
    "            start=tm.time()\n",
    "            for i in range(10**5):\n",
    "                result=self.rast2(a,b,c,d)\n",
    "            self.time2=tm.time()-start\n",
    "            return(self.time2)\n",
    "        if n==3:\n",
    "            start=tm.time()\n",
    "            for i in range(10**5):\n",
    "                result=self.rast3(a,b,c,d)\n",
    "            self.time3=tm.time()-start\n",
    "            return(self.time3)\n",
    "            \n",
    "w=timers()\n",
    "\n",
    "print(w.rast1(0,0,3,4))\n",
    "w.sec(0,0,3,4,1)\n",
    "print(w.time1)\n",
    "\n",
    "print(w.rast2(0,0,3,4))\n",
    "w.sec(0,0,3,4,2)\n",
    "print(w.time2)\n",
    "\n",
    "print(w.rast3(0,0,3,4))\n",
    "w.sec(0,0,3,4,3)\n",
    "print(w.time3)\n",
    "\n",
    "        \n",
    "    "
   ]
  },
  {
   "cell_type": "code",
   "execution_count": null,
   "metadata": {},
   "outputs": [],
   "source": []
  }
 ],
 "metadata": {
  "kernelspec": {
   "display_name": "Python 3",
   "language": "python",
   "name": "python3"
  },
  "language_info": {
   "codemirror_mode": {
    "name": "ipython",
    "version": 3
   },
   "file_extension": ".py",
   "mimetype": "text/x-python",
   "name": "python",
   "nbconvert_exporter": "python",
   "pygments_lexer": "ipython3",
   "version": "3.6.5"
  }
 },
 "nbformat": 4,
 "nbformat_minor": 2
}
